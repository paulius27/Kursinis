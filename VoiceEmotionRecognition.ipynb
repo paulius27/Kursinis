{
  "cells": [
    {
      "cell_type": "code",
      "execution_count": null,
      "metadata": {
        "id": "lg2omb37PYLK"
      },
      "outputs": [],
      "source": [
        "import os"
      ]
    },
    {
      "cell_type": "code",
      "execution_count": null,
      "metadata": {
        "colab": {
          "base_uri": "https://localhost:8080/"
        },
        "id": "BmQZEtvHQzVe",
        "outputId": "1aae5afc-c978-4952-e7fd-be091ba7fb2e"
      },
      "outputs": [],
      "source": [
        "from google.colab import drive\n",
        "drive.mount('/content/gdrive')"
      ]
    },
    {
      "cell_type": "code",
      "execution_count": null,
      "metadata": {
        "colab": {
          "base_uri": "https://localhost:8080/"
        },
        "id": "Vb7Vfve6RtCx",
        "outputId": "425bb45b-9e7d-4f81-a3c9-fac0f30f8715"
      },
      "outputs": [],
      "source": [
        "%cd \"gdrive/My Drive/EmotionRecognition\""
      ]
    },
    {
      "cell_type": "code",
      "execution_count": null,
      "metadata": {
        "colab": {
          "base_uri": "https://localhost:8080/"
        },
        "id": "WCSpOmMhTzW1",
        "outputId": "e36787ce-45f0-427a-a9ae-57c2b833a47c"
      },
      "outputs": [],
      "source": [
        "! git clone https://github.com/BPTI-LT/Emociju-duomenu-baze.git"
      ]
    },
    {
      "cell_type": "code",
      "execution_count": null,
      "metadata": {
        "colab": {
          "base_uri": "https://localhost:8080/"
        },
        "id": "bxLEDbhBaIPO",
        "outputId": "bc3104ac-d751-449a-ecc6-1870ae7d1f1a"
      },
      "outputs": [],
      "source": [
        "! zip -r EMOdb.zip EMOdb"
      ]
    },
    {
      "cell_type": "code",
      "execution_count": null,
      "metadata": {
        "id": "nzZdbviYepp-"
      },
      "outputs": [],
      "source": [
        "cp '/content/gdrive/MyDrive/EmotionRecognition/EMOdb.zip' '/content/EMOdb.zip'"
      ]
    },
    {
      "cell_type": "code",
      "execution_count": null,
      "metadata": {
        "colab": {
          "base_uri": "https://localhost:8080/"
        },
        "id": "87vW782Le-J-",
        "outputId": "406db15a-7e20-4dd7-ee39-9943adda879f"
      },
      "outputs": [],
      "source": [
        "%cd \"/content\""
      ]
    },
    {
      "cell_type": "code",
      "execution_count": null,
      "metadata": {
        "colab": {
          "base_uri": "https://localhost:8080/"
        },
        "id": "vQKp56IRfLiu",
        "outputId": "63479bb9-02fa-4bce-8fb5-5d3ca0376af7"
      },
      "outputs": [],
      "source": [
        "! unzip 'EMOdb.zip'"
      ]
    },
    {
      "cell_type": "code",
      "execution_count": null,
      "metadata": {
        "id": "YqP2YZY4VsgU"
      },
      "outputs": [],
      "source": [
        "import os\n",
        "import numpy as np\n",
        "import librosa\n",
        "import librosa.display\n",
        "import matplotlib.pyplot as plt\n",
        "from IPython.display import Audio"
      ]
    },
    {
      "cell_type": "code",
      "execution_count": null,
      "metadata": {
        "colab": {
          "base_uri": "https://localhost:8080/"
        },
        "id": "0p6xoVllWJJb",
        "outputId": "1fd77e08-4197-4a6d-fb5c-3304efa49b47"
      },
      "outputs": [],
      "source": [
        "paths = [os.path.join(d, x)\n",
        "            for d, dirs, files in os.walk('EMOdb')\n",
        "            for x in files if x.endswith(\".wav\")]\n",
        "\n",
        "paths.sort()\n",
        "\n",
        "print(paths)"
      ]
    },
    {
      "cell_type": "code",
      "execution_count": null,
      "metadata": {
        "colab": {
          "base_uri": "https://localhost:8080/"
        },
        "id": "4oUC4q-mWLwH",
        "outputId": "c61696c4-e486-4950-ff71-d879d7e1b2c8"
      },
      "outputs": [],
      "source": [
        "class_names = ['Baime', 'Dziaugsmas', 'Liudesys', 'Neutrali', 'Nuostaba', 'Pasislykstejimas', 'Pyktis']\n",
        "labels_names = [path.split('/')[2].split(' ')[1] for path in paths]\n",
        "\n",
        "labels = [class_names.index(label_name)\n",
        "          for label_name in labels_names]\n",
        "\n",
        "print (labels_names)"
      ]
    },
    {
      "cell_type": "code",
      "execution_count": null,
      "metadata": {
        "colab": {
          "base_uri": "https://localhost:8080/"
        },
        "id": "zDwWup-QWaki",
        "outputId": "f62394c2-bf00-4ea3-a90e-503c3e72eb6f"
      },
      "outputs": [],
      "source": [
        "Data = []\n",
        "iterations = 0\n",
        "\n",
        "for path in paths:\n",
        "  audio_data, sampling_rate = librosa.load(path)\n",
        "  #Data.append(audio_data)\n",
        "    \n",
        "  mfccs = np.mean(librosa.feature.mfcc(y=audio_data, sr=sampling_rate, n_mfcc=13), axis=0)\n",
        "  #mfccs = np.array(librosa.feature.mfcc(y=audio_data, sr=sampling_rate, n_mfcc=13), axis=0)\n",
        "  #mfccs = librosa.feature.mfcc(y=audio_data, sr=sampling_rate, n_mfcc=13)\n",
        "  Data.append(mfccs)\n",
        "\n",
        "  if (iterations % 10 == 0):\n",
        "    print(iterations, ' | ', len(mfccs))\n",
        "  \n",
        "  iterations += 1\n",
        "  if (iterations >= 1500):\n",
        "      break;\n",
        "\n",
        "print(len(paths))"
      ]
    },
    {
      "cell_type": "code",
      "execution_count": null,
      "metadata": {
        "colab": {
          "base_uri": "https://localhost:8080/"
        },
        "id": "1tlVhfaMXOUy",
        "outputId": "8a71747c-db85-415d-8942-a898aa209290"
      },
      "outputs": [],
      "source": [
        "mean = int(np.mean([len(i) for i in Data]))\n",
        "print(mean)"
      ]
    },
    {
      "cell_type": "code",
      "execution_count": null,
      "metadata": {
        "colab": {
          "base_uri": "https://localhost:8080/"
        },
        "id": "jxDes4RVXQx0",
        "outputId": "71b3c536-f6d5-4965-f9d2-4b8c49933b16"
      },
      "outputs": [],
      "source": [
        "Data2D=np.zeros([iterations,mean])\n",
        "\n",
        "for i,s in enumerate(Data):\n",
        "    Data2D[i,:len(s)]=s[:mean]\n",
        "    \n",
        "X = np.expand_dims(Data2D, axis=2)\n",
        "X.shape"
      ]
    },
    {
      "cell_type": "code",
      "execution_count": null,
      "metadata": {
        "colab": {
          "base_uri": "https://localhost:8080/"
        },
        "id": "sd-lemWpXTzf",
        "outputId": "ade57760-1d92-4184-f0c4-6a1e24e6a741"
      },
      "outputs": [],
      "source": [
        "N=Data2D.shape[0]\n",
        "\n",
        "Y=np.array(labels[:N])\n",
        "Y.shape"
      ]
    },
    {
      "cell_type": "code",
      "execution_count": null,
      "metadata": {
        "id": "ycednf4tXXGL"
      },
      "outputs": [],
      "source": [
        "p=np.random.permutation(N)\n",
        "\n",
        "X=X[p]\n",
        "Y=Y[p]  #sumaisymas\n",
        "\n",
        "x_train=X[:int(0.7*N)]\n",
        "y_train=Y[:int(0.7*N)]\n",
        "\n",
        "x_val=X[int(0.7*N):]\n",
        "y_val=Y[int(0.7*N):]"
      ]
    },
    {
      "cell_type": "code",
      "execution_count": null,
      "metadata": {
        "id": "NKvAftYaXaLS"
      },
      "outputs": [],
      "source": [
        "import tensorflow as tf\n",
        "import keras\n",
        "L = mean"
      ]
    },
    {
      "cell_type": "code",
      "execution_count": null,
      "metadata": {
        "id": "M99erRBGw_bW"
      },
      "outputs": [],
      "source": [
        "input = tf.keras.Input(shape=(L, 1))\n",
        "x=tf.keras.layers.Conv1D(128,5,activation='relu',padding='same')(input)  \n",
        "x=tf.keras.layers.Conv1D(128,5,activation='relu',padding='same')(x)\n",
        "\n",
        "x=tf.keras.layers.AveragePooling1D(2)(x)\n",
        "x=tf.keras.layers.BatchNormalization()(x)\n",
        "\n",
        "x=tf.keras.layers.Conv1D(128,5,activation='relu',padding='same')(x)\n",
        "x=tf.keras.layers.Conv1D(128,5,activation='relu',padding='same')(x)\n",
        "\n",
        "x=tf.keras.layers.AveragePooling1D(2)(x)\n",
        "x=tf.keras.layers.BatchNormalization()(x)\n",
        "\n",
        "x=tf.keras.layers.Conv1D(128,5,activation='relu',padding='same')(x)\n",
        "x=tf.keras.layers.Conv1D(128,5,activation='relu',padding='same')(x)\n",
        "\n",
        "x = tf.keras.layers.GlobalAveragePooling1D()(x)\n",
        "\n",
        "x= tf.keras.layers.Dense(7,activation='softmax')(x)\n",
        "model = tf.keras.Model(inputs=input,outputs=x)"
      ]
    },
    {
      "cell_type": "code",
      "execution_count": null,
      "metadata": {
        "id": "cMiUCItOhfFO"
      },
      "outputs": [],
      "source": [
        "callbacks = [\n",
        "    tf.keras.callbacks.EarlyStopping(monitor='val_loss', min_delta=0.0001, patience=10, restore_best_weights=True),\n",
        "    tf.keras.callbacks.ReduceLROnPlateau(monitor='val_loss', factor=0.1,patience=5, min_lr=1e-9,verbose=1)\n",
        "]"
      ]
    },
    {
      "cell_type": "code",
      "execution_count": null,
      "metadata": {
        "id": "wSYz5RmbXeXR"
      },
      "outputs": [],
      "source": [
        "model.compile(optimizer=tf.keras.optimizers.Adam(learning_rate=1e-3),loss=tf.keras.losses.SparseCategoricalCrossentropy(),metrics=['acc'])"
      ]
    },
    {
      "cell_type": "code",
      "execution_count": null,
      "metadata": {
        "colab": {
          "background_save": true,
          "base_uri": "https://localhost:8080/"
        },
        "id": "rZ0uugUzXg38",
        "outputId": "81508426-26b0-4438-c9d6-650c34e12d6c"
      },
      "outputs": [],
      "source": [
        "cnnhistory = model.fit(x_train,y_train,validation_data=(x_val,y_val),callbacks=callbacks,batch_size=32,shuffle=True,epochs=100)"
      ]
    },
    {
      "cell_type": "code",
      "execution_count": null,
      "metadata": {
        "colab": {
          "base_uri": "https://localhost:8080/",
          "height": 295
        },
        "id": "iCZ82f5qHjsi",
        "outputId": "cf7a0f36-1fbf-4672-9322-1862f03193f6"
      },
      "outputs": [],
      "source": [
        "plt.plot(cnnhistory.history['acc'])\n",
        "plt.plot(cnnhistory.history['val_acc'])\n",
        "plt.title('Modelio tikslumas')\n",
        "plt.ylabel('Tisklumas')\n",
        "plt.xlabel('Epocha')\n",
        "plt.legend(['Mokymosi', 'Įverinimo'], loc='upper left')\n",
        "plt.show()"
      ]
    },
    {
      "cell_type": "code",
      "execution_count": null,
      "metadata": {
        "colab": {
          "base_uri": "https://localhost:8080/",
          "height": 295
        },
        "id": "ThDdGZBUISWc",
        "outputId": "7f237d89-387f-48c2-e92a-63daec992786"
      },
      "outputs": [],
      "source": [
        "plt.plot(cnnhistory.history['loss'])\n",
        "plt.plot(cnnhistory.history['val_loss'])\n",
        "plt.title('Modelio nuostoliai')\n",
        "plt.ylabel('Nuostolis')\n",
        "plt.xlabel('Epocha')\n",
        "plt.legend(['Mokymosi', 'Įverinimo'], loc='upper left')\n",
        "plt.show()"
      ]
    }
  ],
  "metadata": {
    "accelerator": "GPU",
    "colab": {
      "provenance": []
    },
    "gpuClass": "standard",
    "kernelspec": {
      "display_name": "Python 3",
      "name": "python3"
    },
    "language_info": {
      "name": "python"
    }
  },
  "nbformat": 4,
  "nbformat_minor": 0
}
